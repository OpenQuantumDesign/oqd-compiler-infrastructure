{
 "cells": [
  {
   "cell_type": "code",
   "execution_count": 1,
   "metadata": {},
   "outputs": [],
   "source": [
    "from __future__ import annotations\n",
    "\n",
    "from oqd_compiler_infrastructure import TypeReflectBaseModel"
   ]
  },
  {
   "cell_type": "code",
   "execution_count": 2,
   "metadata": {},
   "outputs": [],
   "source": [
    "class MyProgram(TypeReflectBaseModel):\n",
    "    expr: MyExpr"
   ]
  },
  {
   "cell_type": "code",
   "execution_count": 3,
   "metadata": {},
   "outputs": [],
   "source": [
    "class MyExpr(TypeReflectBaseModel):\n",
    "    def __add__(self, other):\n",
    "        return MyAdd(left=self, right=other)\n",
    "\n",
    "    def __mul__(self, other):\n",
    "        return MyMul(left=self, right=other)\n",
    "\n",
    "    def __pow__(self, other):\n",
    "        return MyPow(left=self, right=other)"
   ]
  },
  {
   "cell_type": "code",
   "execution_count": 4,
   "metadata": {},
   "outputs": [],
   "source": [
    "class MyInt(MyExpr):\n",
    "    value: int"
   ]
  },
  {
   "cell_type": "code",
   "execution_count": 5,
   "metadata": {},
   "outputs": [],
   "source": [
    "class MyAdd(MyExpr):\n",
    "    left: MyExpr\n",
    "    right: MyExpr"
   ]
  },
  {
   "cell_type": "code",
   "execution_count": 6,
   "metadata": {},
   "outputs": [],
   "source": [
    "class MyMul(MyExpr):\n",
    "    left: MyExpr\n",
    "    right: MyExpr"
   ]
  },
  {
   "cell_type": "code",
   "execution_count": 7,
   "metadata": {},
   "outputs": [],
   "source": [
    "class MyPow(MyExpr):\n",
    "    left: MyExpr\n",
    "    right: MyExpr"
   ]
  },
  {
   "cell_type": "code",
   "execution_count": 8,
   "metadata": {},
   "outputs": [
    {
     "data": {
      "text/plain": [
       "MyAdd(class_='MyAdd', left=MyInt(class_='MyInt', value=1), right=MyInt(class_='MyInt', value=2))"
      ]
     },
     "execution_count": 8,
     "metadata": {},
     "output_type": "execute_result"
    }
   ],
   "source": [
    "prog = MyInt(value=1) + MyInt(value=2)\n",
    "\n",
    "prog"
   ]
  },
  {
   "cell_type": "code",
   "execution_count": 9,
   "metadata": {},
   "outputs": [],
   "source": [
    "from oqd_compiler_infrastructure import (\n",
    "    Chain,\n",
    "    ConversionRule,\n",
    "    FixedPoint,\n",
    "    Post,\n",
    "    PrettyPrint,\n",
    "    RewriteRule,\n",
    ")"
   ]
  },
  {
   "cell_type": "code",
   "execution_count": 10,
   "metadata": {},
   "outputs": [],
   "source": [
    "class Associativity(RewriteRule):\n",
    "    def map_MyAdd(self, model):\n",
    "        if isinstance(model.right, MyAdd):\n",
    "            return MyAdd(\n",
    "                left=MyAdd(left=model.left, right=model.right.left),\n",
    "                right=model.right.right,\n",
    "            )\n",
    "\n",
    "    def map_MyMul(self, model):\n",
    "        if isinstance(model.right, MyMul):\n",
    "            return MyMul(\n",
    "                left=MyMul(left=model.left, right=model.right.left),\n",
    "                right=model.right.right,\n",
    "            )\n",
    "\n",
    "\n",
    "class Distribution(RewriteRule):\n",
    "    def map_MyMul(self, model):\n",
    "        if isinstance(model.left, MyAdd):\n",
    "            return MyAdd(\n",
    "                left=MyMul(left=model.left.left, right=model.right),\n",
    "                right=MyMul(left=model.left.right, right=model.right),\n",
    "            )\n",
    "        if isinstance(model.right, MyAdd):\n",
    "            return MyAdd(\n",
    "                left=MyMul(left=model.left, right=model.right.left),\n",
    "                right=MyMul(left=model.left, right=model.right.right),\n",
    "            )\n",
    "\n",
    "\n",
    "canonicalization_pass = Chain(\n",
    "    FixedPoint(Post(Associativity())),\n",
    "    FixedPoint(Post(Distribution())),\n",
    ")"
   ]
  },
  {
   "cell_type": "code",
   "execution_count": 11,
   "metadata": {},
   "outputs": [],
   "source": [
    "class Execution(ConversionRule):\n",
    "    def map_MyInt(self, model, operands):\n",
    "        return model.value\n",
    "\n",
    "    def map_MyAdd(self, model, operands):\n",
    "        return operands[\"left\"] + operands[\"right\"]\n",
    "\n",
    "    def map_MyMul(self, model, operands):\n",
    "        return operands[\"left\"] * operands[\"right\"]\n",
    "\n",
    "    def map_MyPow(self, model, operands):\n",
    "        if operands[\"right\"] < 0:\n",
    "            raise ValueError(\"Negative exponents are not supported\")\n",
    "\n",
    "        return operands[\"left\"] ** operands[\"right\"]\n",
    "\n",
    "    def map_MyProgram(self, model, operands):\n",
    "        return operands[\"expr\"]\n",
    "\n",
    "\n",
    "execution_pass = Post(Execution())"
   ]
  },
  {
   "cell_type": "code",
   "execution_count": 12,
   "metadata": {},
   "outputs": [],
   "source": [
    "interpreter = Chain(canonicalization_pass, execution_pass)"
   ]
  },
  {
   "cell_type": "code",
   "execution_count": 13,
   "metadata": {},
   "outputs": [
    {
     "name": "stdout",
     "output_type": "stream",
     "text": [
      "int(163)\n"
     ]
    }
   ],
   "source": [
    "printer = Post(PrettyPrint())\n",
    "\n",
    "program = MyProgram(\n",
    "    expr=MyInt(value=1) + MyInt(value=2) * MyInt(value=3) ** MyInt(value=4)\n",
    ")\n",
    "\n",
    "result = interpreter(program)\n",
    "\n",
    "print(printer(result))"
   ]
  },
  {
   "cell_type": "code",
   "execution_count": null,
   "metadata": {},
   "outputs": [],
   "source": []
  }
 ],
 "metadata": {
  "kernelspec": {
   "display_name": "Python 3",
   "language": "python",
   "name": "python3"
  },
  "language_info": {
   "codemirror_mode": {
    "name": "ipython",
    "version": 3
   },
   "file_extension": ".py",
   "mimetype": "text/x-python",
   "name": "python",
   "nbconvert_exporter": "python",
   "pygments_lexer": "ipython3",
   "version": "3.10.14"
  }
 },
 "nbformat": 4,
 "nbformat_minor": 2
}
